{
 "cells": [
  {
   "cell_type": "code",
   "execution_count": 47,
   "metadata": {},
   "outputs": [],
   "source": [
    "import random\n",
    "\n",
    "import pandas as pd\n",
    "import numpy as np\n",
    "\n",
    "df = pd.read_csv('MITMovie_dataset.csv', header=None, encoding='cp1252')\n",
    "\n",
    "    \n",
    "text=[]  \n",
    "a=0\n",
    "string=\"\"\n",
    "for i in df.index:\n",
    "    if pd.isna(df.loc[i, 0]) == True :\n",
    "        text.append(string.lstrip())\n",
    "        a=a+1\n",
    "        string=\"\"\n",
    "    if pd.isna(df.loc[i, 0]) == False:\n",
    "        string = string + \" \" + df.loc[i,0]\n",
    "\n",
    "\n",
    "\n",
    " #create a panda dataset with recipe information       \n",
    "alltxt = pd.DataFrame(text, columns=[\"Review\"])\n",
    "\n",
    "#write to csv\n",
    "alltxt.to_csv(r'C:\\Users\\justs\\Documents\\Capstone\\MoviesReviewsAll.csv')\n",
    "\n"
   ]
  },
  {
   "cell_type": "code",
   "execution_count": null,
   "metadata": {},
   "outputs": [],
   "source": [
    "\n"
   ]
  },
  {
   "cell_type": "code",
   "execution_count": null,
   "metadata": {},
   "outputs": [],
   "source": []
  }
 ],
 "metadata": {
  "kernelspec": {
   "display_name": "Python 3",
   "language": "python",
   "name": "python3"
  },
  "language_info": {
   "codemirror_mode": {
    "name": "ipython",
    "version": 3
   },
   "file_extension": ".py",
   "mimetype": "text/x-python",
   "name": "python",
   "nbconvert_exporter": "python",
   "pygments_lexer": "ipython3",
   "version": "3.8.5"
  }
 },
 "nbformat": 4,
 "nbformat_minor": 4
}
